{
  "nbformat": 4,
  "nbformat_minor": 0,
  "metadata": {
    "colab": {
      "name": "image_sentiments.ipynib",
      "provenance": [],
      "collapsed_sections": []
    },
    "kernelspec": {
      "name": "python3",
      "display_name": "Python 3"
    },
    "accelerator": "GPU"
  },
  "cells": [
    {
      "cell_type": "code",
      "metadata": {
        "id": "Ch705tdrmNt4",
        "colab": {
          "base_uri": "https://localhost:8080/",
          "height": 35
        },
        "outputId": "f48a20a9-6a15-4fd5-8781-12a1dc6d3020"
      },
      "source": [
        "import tensorflow as tf \n",
        "tf.test.gpu_device_name()"
      ],
      "execution_count": null,
      "outputs": [
        {
          "output_type": "execute_result",
          "data": {
            "application/vnd.google.colaboratory.intrinsic+json": {
              "type": "string"
            },
            "text/plain": [
              "'/device:GPU:0'"
            ]
          },
          "metadata": {
            "tags": []
          },
          "execution_count": 1
        }
      ]
    },
    {
      "cell_type": "code",
      "metadata": {
        "id": "V_QHsPNkmpB4",
        "colab": {
          "base_uri": "https://localhost:8080/"
        },
        "outputId": "bea0289c-61b3-4299-c8ac-7ba6444644de"
      },
      "source": [
        "!pip install Tensorflow \n",
        "!pip install Keras \n",
        "!pip install numpy \n",
        "!pip install matplotlib "
      ],
      "execution_count": null,
      "outputs": [
        {
          "output_type": "stream",
          "text": [
            "Requirement already satisfied: Tensorflow in /usr/local/lib/python3.6/dist-packages (2.4.0)\n",
            "Requirement already satisfied: flatbuffers~=1.12.0 in /usr/local/lib/python3.6/dist-packages (from Tensorflow) (1.12)\n",
            "Requirement already satisfied: keras-preprocessing~=1.1.2 in /usr/local/lib/python3.6/dist-packages (from Tensorflow) (1.1.2)\n",
            "Requirement already satisfied: tensorboard~=2.4 in /usr/local/lib/python3.6/dist-packages (from Tensorflow) (2.4.0)\n",
            "Requirement already satisfied: absl-py~=0.10 in /usr/local/lib/python3.6/dist-packages (from Tensorflow) (0.10.0)\n",
            "Requirement already satisfied: gast==0.3.3 in /usr/local/lib/python3.6/dist-packages (from Tensorflow) (0.3.3)\n",
            "Requirement already satisfied: h5py~=2.10.0 in /usr/local/lib/python3.6/dist-packages (from Tensorflow) (2.10.0)\n",
            "Requirement already satisfied: opt-einsum~=3.3.0 in /usr/local/lib/python3.6/dist-packages (from Tensorflow) (3.3.0)\n",
            "Requirement already satisfied: typing-extensions~=3.7.4 in /usr/local/lib/python3.6/dist-packages (from Tensorflow) (3.7.4.3)\n",
            "Requirement already satisfied: six~=1.15.0 in /usr/local/lib/python3.6/dist-packages (from Tensorflow) (1.15.0)\n",
            "Requirement already satisfied: astunparse~=1.6.3 in /usr/local/lib/python3.6/dist-packages (from Tensorflow) (1.6.3)\n",
            "Requirement already satisfied: wheel~=0.35 in /usr/local/lib/python3.6/dist-packages (from Tensorflow) (0.36.2)\n",
            "Requirement already satisfied: tensorflow-estimator<2.5.0,>=2.4.0rc0 in /usr/local/lib/python3.6/dist-packages (from Tensorflow) (2.4.0)\n",
            "Requirement already satisfied: google-pasta~=0.2 in /usr/local/lib/python3.6/dist-packages (from Tensorflow) (0.2.0)\n",
            "Requirement already satisfied: grpcio~=1.32.0 in /usr/local/lib/python3.6/dist-packages (from Tensorflow) (1.32.0)\n",
            "Requirement already satisfied: termcolor~=1.1.0 in /usr/local/lib/python3.6/dist-packages (from Tensorflow) (1.1.0)\n",
            "Requirement already satisfied: wrapt~=1.12.1 in /usr/local/lib/python3.6/dist-packages (from Tensorflow) (1.12.1)\n",
            "Requirement already satisfied: numpy~=1.19.2 in /usr/local/lib/python3.6/dist-packages (from Tensorflow) (1.19.5)\n",
            "Requirement already satisfied: protobuf>=3.9.2 in /usr/local/lib/python3.6/dist-packages (from Tensorflow) (3.12.4)\n",
            "Requirement already satisfied: setuptools>=41.0.0 in /usr/local/lib/python3.6/dist-packages (from tensorboard~=2.4->Tensorflow) (51.1.2)\n",
            "Requirement already satisfied: werkzeug>=0.11.15 in /usr/local/lib/python3.6/dist-packages (from tensorboard~=2.4->Tensorflow) (1.0.1)\n",
            "Requirement already satisfied: requests<3,>=2.21.0 in /usr/local/lib/python3.6/dist-packages (from tensorboard~=2.4->Tensorflow) (2.23.0)\n",
            "Requirement already satisfied: google-auth<2,>=1.6.3 in /usr/local/lib/python3.6/dist-packages (from tensorboard~=2.4->Tensorflow) (1.17.2)\n",
            "Requirement already satisfied: markdown>=2.6.8 in /usr/local/lib/python3.6/dist-packages (from tensorboard~=2.4->Tensorflow) (3.3.3)\n",
            "Requirement already satisfied: tensorboard-plugin-wit>=1.6.0 in /usr/local/lib/python3.6/dist-packages (from tensorboard~=2.4->Tensorflow) (1.7.0)\n",
            "Requirement already satisfied: google-auth-oauthlib<0.5,>=0.4.1 in /usr/local/lib/python3.6/dist-packages (from tensorboard~=2.4->Tensorflow) (0.4.2)\n",
            "Requirement already satisfied: chardet<4,>=3.0.2 in /usr/local/lib/python3.6/dist-packages (from requests<3,>=2.21.0->tensorboard~=2.4->Tensorflow) (3.0.4)\n",
            "Requirement already satisfied: certifi>=2017.4.17 in /usr/local/lib/python3.6/dist-packages (from requests<3,>=2.21.0->tensorboard~=2.4->Tensorflow) (2020.12.5)\n",
            "Requirement already satisfied: urllib3!=1.25.0,!=1.25.1,<1.26,>=1.21.1 in /usr/local/lib/python3.6/dist-packages (from requests<3,>=2.21.0->tensorboard~=2.4->Tensorflow) (1.24.3)\n",
            "Requirement already satisfied: idna<3,>=2.5 in /usr/local/lib/python3.6/dist-packages (from requests<3,>=2.21.0->tensorboard~=2.4->Tensorflow) (2.10)\n",
            "Requirement already satisfied: pyasn1-modules>=0.2.1 in /usr/local/lib/python3.6/dist-packages (from google-auth<2,>=1.6.3->tensorboard~=2.4->Tensorflow) (0.2.8)\n",
            "Requirement already satisfied: rsa<5,>=3.1.4; python_version >= \"3\" in /usr/local/lib/python3.6/dist-packages (from google-auth<2,>=1.6.3->tensorboard~=2.4->Tensorflow) (4.6)\n",
            "Requirement already satisfied: cachetools<5.0,>=2.0.0 in /usr/local/lib/python3.6/dist-packages (from google-auth<2,>=1.6.3->tensorboard~=2.4->Tensorflow) (4.2.0)\n",
            "Requirement already satisfied: importlib-metadata; python_version < \"3.8\" in /usr/local/lib/python3.6/dist-packages (from markdown>=2.6.8->tensorboard~=2.4->Tensorflow) (3.3.0)\n",
            "Requirement already satisfied: requests-oauthlib>=0.7.0 in /usr/local/lib/python3.6/dist-packages (from google-auth-oauthlib<0.5,>=0.4.1->tensorboard~=2.4->Tensorflow) (1.3.0)\n",
            "Requirement already satisfied: pyasn1<0.5.0,>=0.4.6 in /usr/local/lib/python3.6/dist-packages (from pyasn1-modules>=0.2.1->google-auth<2,>=1.6.3->tensorboard~=2.4->Tensorflow) (0.4.8)\n",
            "Requirement already satisfied: zipp>=0.5 in /usr/local/lib/python3.6/dist-packages (from importlib-metadata; python_version < \"3.8\"->markdown>=2.6.8->tensorboard~=2.4->Tensorflow) (3.4.0)\n",
            "Requirement already satisfied: oauthlib>=3.0.0 in /usr/local/lib/python3.6/dist-packages (from requests-oauthlib>=0.7.0->google-auth-oauthlib<0.5,>=0.4.1->tensorboard~=2.4->Tensorflow) (3.1.0)\n",
            "Requirement already satisfied: Keras in /usr/local/lib/python3.6/dist-packages (2.4.3)\n",
            "Requirement already satisfied: scipy>=0.14 in /usr/local/lib/python3.6/dist-packages (from Keras) (1.4.1)\n",
            "Requirement already satisfied: numpy>=1.9.1 in /usr/local/lib/python3.6/dist-packages (from Keras) (1.19.5)\n",
            "Requirement already satisfied: pyyaml in /usr/local/lib/python3.6/dist-packages (from Keras) (3.13)\n",
            "Requirement already satisfied: h5py in /usr/local/lib/python3.6/dist-packages (from Keras) (2.10.0)\n",
            "Requirement already satisfied: six in /usr/local/lib/python3.6/dist-packages (from h5py->Keras) (1.15.0)\n",
            "Requirement already satisfied: numpy in /usr/local/lib/python3.6/dist-packages (1.19.5)\n",
            "Requirement already satisfied: matplotlib in /usr/local/lib/python3.6/dist-packages (3.2.2)\n",
            "Requirement already satisfied: python-dateutil>=2.1 in /usr/local/lib/python3.6/dist-packages (from matplotlib) (2.8.1)\n",
            "Requirement already satisfied: cycler>=0.10 in /usr/local/lib/python3.6/dist-packages (from matplotlib) (0.10.0)\n",
            "Requirement already satisfied: kiwisolver>=1.0.1 in /usr/local/lib/python3.6/dist-packages (from matplotlib) (1.3.1)\n",
            "Requirement already satisfied: numpy>=1.11 in /usr/local/lib/python3.6/dist-packages (from matplotlib) (1.19.5)\n",
            "Requirement already satisfied: pyparsing!=2.0.4,!=2.1.2,!=2.1.6,>=2.0.1 in /usr/local/lib/python3.6/dist-packages (from matplotlib) (2.4.7)\n",
            "Requirement already satisfied: six>=1.5 in /usr/local/lib/python3.6/dist-packages (from python-dateutil>=2.1->matplotlib) (1.15.0)\n"
          ],
          "name": "stdout"
        }
      ]
    },
    {
      "cell_type": "code",
      "metadata": {
        "id": "NXAY6Rv5m6RR"
      },
      "source": [
        "import tensorflow as tf \n",
        "import keras \n",
        "from keras.models import Sequential \n",
        "from keras.layers import Conv2D, MaxPooling2D, AveragePooling2D \n",
        "from keras.layers import Dense, Activation, Dropout, Flatten \n",
        "from keras.preprocessing import image \n",
        "from keras.preprocessing.image import ImageDataGenerator \n",
        "import numpy as np \n",
        "import matplotlib.pyplot as plt \n",
        "import csv,tarfile \n",
        "\n"
      ],
      "execution_count": null,
      "outputs": []
    },
    {
      "cell_type": "code",
      "metadata": {
        "id": "r-gF4pyknig_"
      },
      "source": [
        "num_classes = 7 #angry, disgust, fear, happy, sad, surprise, neutral \n",
        "batch_size = 256 \n",
        "epochs = 5"
      ],
      "execution_count": null,
      "outputs": []
    },
    {
      "cell_type": "code",
      "metadata": {
        "id": "R3hxfXY1nxHO"
      },
      "source": [
        "with open(\"fer.csv\") as f: \n",
        "  content = f.readlines()  "
      ],
      "execution_count": null,
      "outputs": []
    },
    {
      "cell_type": "code",
      "metadata": {
        "id": "YqQb-f8Zn5iT",
        "colab": {
          "base_uri": "https://localhost:8080/"
        },
        "outputId": "0a896fd1-481d-4953-ae0f-b8c4f7222982"
      },
      "source": [
        "lines = np.array(content) \n",
        "num_of_instances = lines.size \n",
        "print(num_of_instances) \n",
        "print(\"instance length: \",len(lines[1].split(\",\")[1].split(\" \")))  "
      ],
      "execution_count": null,
      "outputs": [
        {
          "output_type": "stream",
          "text": [
            "2476\n",
            "instance length:  2304\n"
          ],
          "name": "stdout"
        }
      ]
    },
    {
      "cell_type": "code",
      "metadata": {
        "id": "p4gnD0q1oRIC",
        "colab": {
          "base_uri": "https://localhost:8080/"
        },
        "outputId": "fc8147a5-13f0-4f56-d951-b909c77ddae7"
      },
      "source": [
        "emotion, img, usage = lines[1].split(\",\") \n",
        "print(img)"
      ],
      "execution_count": null,
      "outputs": [
        {
          "output_type": "stream",
          "text": [
            "236 246 227 203 146 171 71 95 105 102 95 90 84 74 78 83 74 64 138 242 220 230 239 216 115 48 72 92 117 152 173 159 160 210 215 198 172 142 93 128 185 193 176 174 149 52 52 95 231 225 224 220 167 199 106 89 126 115 94 82 78 74 79 88 91 79 102 193 238 232 239 245 221 130 75 68 91 137 161 158 156 175 221 216 204 169 119 86 163 197 175 179 193 105 37 60 233 226 246 236 192 207 191 113 127 113 104 87 71 84 77 81 97 88 94 89 187 239 236 220 193 201 202 156 119 120 144 147 159 153 183 224 216 200 167 106 100 181 170 183 199 171 53 37 187 148 151 213 203 203 190 143 104 95 112 93 83 75 71 67 94 80 77 102 114 184 226 204 196 215 226 237 232 178 128 129 149 158 136 193 226 216 199 149 92 123 164 182 204 177 74 32 130 139 196 209 205 213 196 155 124 120 106 81 111 107 91 81 76 78 89 106 124 134 157 199 218 219 222 228 225 200 150 138 134 132 149 220 233 222 217 182 152 114 123 156 197 142 71 43 127 146 184 191 218 221 211 203 186 136 92 94 88 82 95 105 112 120 115 104 111 126 140 152 177 214 225 225 210 165 146 159 164 160 219 244 232 232 227 205 189 176 113 98 154 118 64 47 156 198 192 182 224 223 216 212 198 118 95 87 78 106 102 114 136 165 173 167 147 149 149 151 134 145 195 210 191 160 154 171 179 176 198 218 232 237 233 215 204 214 168 68 74 108 74 42 175 220 215 214 220 215 223 225 192 96 103 76 109 92 117 157 187 192 202 201 167 155 162 157 148 140 141 160 179 189 184 192 186 173 176 201 219 226 223 214 217 218 172 73 45 100 76 38 166 174 232 216 214 224 218 236 185 114 123 105 97 116 182 208 211 212 212 212 203 179 168 160 163 157 159 152 143 177 211 209 199 193 190 195 203 206 200 194 210 211 136 71 51 89 64 39 199 199 226 196 226 230 218 227 164 176 117 105 155 213 214 209 211 211 211 208 206 201 184 168 163 159 169 169 152 139 152 193 210 209 204 205 219 210 158 137 177 170 114 78 53 83 59 39 205 215 196 200 233 231 229 194 172 170 152 190 226 217 213 210 211 210 204 197 195 191 186 180 165 159 164 166 153 147 122 136 215 215 213 215 222 207 124 92 119 119 111 90 56 82 58 36 195 196 202 223 234 230 221 178 183 180 201 221 223 222 212 210 209 204 200 192 193 191 186 172 160 150 155 157 146 145 138 107 200 223 214 221 209 171 111 100 102 98 113 99 63 76 55 35 218 210 222 227 233 222 210 196 191 192 216 223 225 219 213 215 208 203 201 191 187 186 182 164 153 151 151 148 147 152 149 110 184 221 200 207 196 138 95 108 110 96 111 112 63 81 54 32 236 231 229 229 231 219 209 218 215 204 225 223 222 217 212 207 205 203 197 186 181 182 171 156 152 154 147 146 149 159 159 126 181 235 201 194 182 143 119 115 112 98 110 119 61 76 51 30 238 237 233 230 235 231 223 222 224 221 215 225 218 215 212 209 205 199 195 191 178 175 172 165 163 156 144 146 151 157 159 143 202 231 202 197 194 175 143 121 112 102 118 108 62 74 51 30 238 238 232 231 230 228 229 227 224 224 216 217 218 212 211 206 198 192 193 191 182 178 170 163 156 151 135 131 131 134 145 144 202 231 209 199 200 188 156 131 117 104 121 101 76 85 49 25 237 235 231 229 228 224 221 223 221 215 222 212 216 214 208 200 191 184 183 184 183 179 142 116 98 103 91 71 76 86 117 134 196 233 218 198 189 193 169 131 114 106 113 115 84 86 53 25 236 232 229 227 227 223 219 221 215 212 217 218 210 213 207 199 188 182 176 171 169 165 148 130 112 87 67 62 54 41 41 62 177 233 223 207 186 187 189 153 120 118 108 122 94 81 66 62 233 228 225 226 226 220 216 219 213 211 214 217 212 204 205 194 186 179 169 157 168 161 135 127 119 112 99 92 72 56 42 25 138 232 223 209 187 191 203 172 139 128 108 104 69 55 67 46 230 225 223 224 220 218 215 214 214 211 210 211 215 205 201 197 187 180 159 152 156 145 115 101 92 95 99 79 67 80 89 88 122 219 216 205 196 204 209 187 149 128 118 82 47 55 62 50 232 226 223 221 216 214 212 211 210 209 209 212 215 210 194 196 187 178 162 146 128 129 121 99 102 61 59 55 55 65 99 104 81 199 205 205 208 207 199 185 153 148 141 92 75 78 39 36 230 227 222 216 212 209 212 210 207 206 207 209 209 205 196 186 187 175 163 151 136 121 102 89 76 64 79 74 71 89 121 119 55 135 228 214 212 203 197 191 170 169 160 122 111 97 69 41 226 225 218 212 207 207 206 201 201 199 199 203 202 198 192 184 184 177 166 154 145 130 103 82 84 110 119 108 113 128 136 119 55 56 216 224 219 214 211 208 201 194 179 169 147 125 69 53 224 220 211 205 200 200 199 195 199 195 193 195 193 190 188 185 177 175 168 163 157 143 122 106 116 128 140 150 152 145 144 124 60 24 110 233 215 215 219 223 223 219 202 165 157 153 107 68 221 218 209 202 196 193 195 191 191 191 194 195 190 188 184 176 172 170 172 170 158 141 134 117 110 110 126 149 155 149 146 122 58 38 28 152 227 206 210 217 204 180 153 146 128 112 131 80 214 210 204 199 194 191 193 194 193 196 195 192 190 188 181 171 169 170 175 169 150 148 134 85 62 96 116 134 159 158 148 120 51 28 34 28 124 195 178 148 130 130 123 106 102 103 135 128 213 205 200 196 191 190 191 191 194 197 191 190 197 196 183 166 167 176 176 164 155 143 111 87 113 146 137 111 152 155 128 110 60 37 31 31 41 97 124 116 107 95 94 101 104 109 115 130 212 210 203 196 192 190 191 188 196 198 202 206 206 196 178 169 181 182 163 150 126 112 115 100 142 184 164 127 147 132 107 98 43 55 84 93 80 68 97 80 81 93 99 101 97 99 97 154 215 206 205 201 196 191 193 200 206 211 216 213 201 184 178 186 180 151 136 124 117 103 118 118 111 144 174 177 161 138 96 90 34 30 107 103 81 72 61 75 86 91 96 90 99 123 130 106 214 208 202 204 198 196 201 207 207 210 212 201 187 187 198 179 137 136 147 143 125 116 108 121 127 126 129 175 193 171 135 74 16 34 129 107 88 87 77 71 81 85 95 116 126 101 97 123 204 204 208 208 206 202 204 208 208 208 202 188 191 200 182 123 141 165 177 173 154 136 110 92 79 64 60 138 165 156 102 25 25 34 113 108 93 84 89 65 99 117 105 105 118 154 197 199 182 186 196 201 205 205 203 203 204 199 191 189 203 206 136 150 186 208 207 196 180 155 135 112 75 54 73 95 65 34 18 28 30 58 67 78 102 91 95 81 130 135 156 200 229 233 223 216 167 173 175 194 202 195 191 195 195 188 181 194 230 159 115 143 158 137 111 82 59 37 56 47 36 69 115 85 43 29 33 33 50 70 46 40 62 75 63 49 41 83 239 242 235 237 233 225 176 177 174 179 201 204 192 190 193 190 184 218 202 105 140 137 106 40 12 25 25 37 58 45 57 102 96 48 33 32 36 42 73 44 39 36 21 26 38 37 34 19 145 243 234 241 238 234 184 176 172 171 174 198 211 196 193 194 197 213 145 138 152 186 157 66 45 41 52 73 51 43 71 96 58 37 33 34 39 67 61 36 40 34 35 51 47 39 36 33 57 214 241 239 240 234 179 178 171 168 150 125 154 212 202 191 195 188 141 149 141 158 177 117 94 92 102 75 54 46 73 73 45 44 39 37 55 80 41 43 44 43 58 55 42 42 42 52 48 126 246 238 242 235 179 177 169 157 133 96 57 90 187 201 186 178 164 144 129 136 142 139 124 102 80 73 66 56 66 60 48 48 40 44 82 66 47 65 73 74 67 48 54 56 62 70 71 64 195 245 240 233 160 154 144 124 100 76 44 10 65 169 188 179 169 157 138 136 123 102 118 164 103 69 78 69 59 53 50 52 45 67 103 60 71 93 103 109 74 89 101 89 91 92 87 70 140 252 241 245 134 142 136 125 114 87 90 152 179 177 201 194 169 164 147 137 143 160 167 192 212 141 73 75 69 58 54 54 55 103 103 71 100 140 163 153 140 143 128 125 120 112 102 99 137 249 255 255 134 153 150 143 119 147 223 244 248 235 224 238 222 202 162 153 165 176 181 187 193 217 183 105 69 70 68 61 78 140 99 99 130 174 191 182 167 147 148 152 141 135 125 131 131 204 255 253 136 146 124 104 159 228 230 229 238 249 230 247 255 223 150 166 180 181 194 202 194 167 164 187 164 104 75 76 114 159 103 144 157 188 204 197 171 167 177 170 162 159 151 156 171 166 248 254 126 122 140 194 241 238 234 229 232 230 227 253 222 164 167 181 177 190 205 198 177 153 129 113 153 189 156 103 147 169 138 180 179 200 221 215 196 193 199 184 185 178 173 190 187 169 232 255 137 188 247 252 243 244 245 245 235 234 228 198 170 172 178 175 186 208 204 176 153 142 137 142 134 134 166 178 184 184 181 204 198 206 227 221 213 213 221 200 202 197 200 199 157 187 202 233 202 252 241 233 233 236 236 235 247 241 197 162 205 216 199 179 210 214 181 154 145 151 179 190 195 197 174 162 205 202 209 219 209 205 233 231 221 226 231 214 213 217 207 205 231 222 202 236 250 236 234 236 232 232 236 236 230 242 187 173 199 215 216 207 214 193 165 160 160 193 198 181 187 196 193 184 202 208 222 231 223 209 240 237 233 233 236 228 231 229 215 237 216 200 211 227 241 233 236 226 231 235 228 231 239 210 211 193 197 220 233 217 197 179 179 178 187 215 189 199 212 210 207 208 184 209 217 218 217 205 220 222 219 219 222 220 238 227 234 230 206 241 246 225 235 239 229 238 254 255 249 229 212 197 216 213 204 228 244 209 189 201 208 201 203 228 205 228 230 232 230 186 217 234 236 243 225 197 223 243 229 235 247 243 224 223 229 235 223 223 207 197 233 239 230 246 248 233 225 205 203 205 224 226 216 231 242 203 206 225 228 217 215 238 217 239 240 238 215 205 216 221 222 227 250 203 223 254 235 224 225 251 228 230 217 237 246 229 220 216\n"
          ],
          "name": "stdout"
        }
      ]
    },
    {
      "cell_type": "code",
      "metadata": {
        "id": "wCARmiJBobdS",
        "colab": {
          "base_uri": "https://localhost:8080/"
        },
        "outputId": "3856ff6c-2667-4e4e-8657-bb9dbc22c657"
      },
      "source": [
        "x_train, y_train, x_test, y_test = [], [], [], []  \n",
        "#transfer train and test set data \n",
        "print(num_of_instances) \n",
        "n=0 \n",
        "for i in range(1,num_of_instances):     \n",
        "    try:         \n",
        "      emotion, img, usage = lines[i].split(\",\")         \n",
        "      val = img.split(\" \")         \n",
        "      pixels = np.array(val, 'float32')         \n",
        "      emotion = keras.utils.to_categorical(emotion, num_classes)         \n",
        "      n=n+1              \n",
        "      if 'Training' in usage:             \n",
        "        y_train.append(emotion)             \n",
        "        x_train.append(pixels)         \n",
        "      elif 'PublicTest' in usage:             \n",
        "        y_test.append(emotion)             \n",
        "        x_test.append(pixels)     \n",
        "    except:         \n",
        "        print(\"\",end=\"\") "
      ],
      "execution_count": null,
      "outputs": [
        {
          "output_type": "stream",
          "text": [
            "2476\n"
          ],
          "name": "stdout"
        }
      ]
    },
    {
      "cell_type": "code",
      "metadata": {
        "id": "vvmvGWgko33k",
        "colab": {
          "base_uri": "https://localhost:8080/"
        },
        "outputId": "75576468-dc53-48c4-ba41-49a2973d1a10"
      },
      "source": [
        "print(x_test[0])  \n",
        "print(x_train[0])  "
      ],
      "execution_count": null,
      "outputs": [
        {
          "output_type": "stream",
          "text": [
            "[254. 254. 254. ...  42. 129. 180.]\n",
            "[236. 246. 227. ... 229. 220. 216.]\n"
          ],
          "name": "stdout"
        }
      ]
    },
    {
      "cell_type": "code",
      "metadata": {
        "id": "k7S4Dm9MpRlJ",
        "colab": {
          "base_uri": "https://localhost:8080/"
        },
        "outputId": "f950bab3-e6ed-4a5e-d5bd-a1a280cca7d5"
      },
      "source": [
        "x_train = np.array(x_train, 'float32') \n",
        "y_train = np.array(y_train, 'float32') \n",
        "x_test = np.array(x_test, 'float32') \n",
        "y_test = np.array(y_test, 'float32') \n",
        "x_train /= 255 #normalize inputs between [0, 1] \n",
        "x_test /= 255 \n",
        "x_train = x_train.reshape(x_train.shape[0], 48, 48, 1) \n",
        "x_train = x_train.astype('float32') \n",
        "x_test = x_test.reshape(x_test.shape[0], 48, 48, 1) \n",
        "x_test = x_test.astype('float32') \n",
        "print(x_train.shape[0], 'train samples') \n",
        "print(x_test.shape[0], 'test samples')  "
      ],
      "execution_count": null,
      "outputs": [
        {
          "output_type": "stream",
          "text": [
            "2461 train samples\n",
            "14 test samples\n"
          ],
          "name": "stdout"
        }
      ]
    },
    {
      "cell_type": "code",
      "metadata": {
        "id": "-ZeWiIBVrxQT",
        "colab": {
          "base_uri": "https://localhost:8080/",
          "height": 233
        },
        "outputId": "a331cb01-904b-4c43-edfc-ebc108ba6891"
      },
      "source": [
        "import seaborn as sns \n",
        "plt.figure(0, figsize=(12,6)) \n",
        "for i in range(1, 4):     \n",
        "  plt.subplot(1,4,i)     \n",
        "  plt.imshow(x_train[i, :, :, 0], cmap=\"gray\") \n",
        "plt.tight_layout() \n",
        "plt.show() "
      ],
      "execution_count": null,
      "outputs": [
        {
          "output_type": "display_data",
          "data": {
            "image/png": "[encoded data removed]",
            "text/plain": [
              "<Figure size 864x432 with 3 Axes>"
            ]
          },
          "metadata": {
            "tags": [],
            "needs_background": "light"
          }
        }
      ]
    },
    {
      "cell_type": "code",
      "metadata": {
        "id": "pSGv3iFHsB-S"
      },
      "source": [
        "model = Sequential()  \n",
        "model.add(Conv2D(64, (3, 3), activation='relu', input_shape=(48,48,1))) \n",
        "model.add(MaxPooling2D(pool_size=(2,2)))  # 2nd convolution layer \n",
        "model.add(Conv2D(64, (3, 3), activation='relu')) \n",
        "model.add(MaxPooling2D(pool_size=(2,2)))  # 3rd convolution layer \n",
        "model.add(Conv2D(128, (3, 3), activation='relu')) \n",
        "model.add(MaxPooling2D(pool_size=(2,2))) \n",
        "model.add(Flatten())  # fully connected neural networks \n",
        "model.add(Dense(1024, activation='relu')) \n",
        "model.add(Dropout(0.2)) "
      ],
      "execution_count": null,
      "outputs": []
    },
    {
      "cell_type": "code",
      "metadata": {
        "id": "GIc3_AOFsWgo"
      },
      "source": [
        "model.add(Dense(1024, activation='relu')) \n",
        "model.add(Dropout(0.2)) \n",
        "model.add(Dense(num_classes, activation='softmax')) "
      ],
      "execution_count": null,
      "outputs": []
    },
    {
      "cell_type": "code",
      "metadata": {
        "id": "0s7pfvDLsfL-"
      },
      "source": [
        "gen = ImageDataGenerator() \n",
        "train_generator = gen.flow(x_train, y_train, batch_size=batch_size) \n",
        "model.compile(loss='categorical_crossentropy', optimizer=keras.optimizers.Adam(), metrics=['accuracy']) "
      ],
      "execution_count": null,
      "outputs": []
    },
    {
      "cell_type": "code",
      "metadata": {
        "id": "NKz1qf4Esoxv",
        "colab": {
          "base_uri": "https://localhost:8080/"
        },
        "outputId": "07f7e686-3015-4dc4-d5db-198ef59b2c4b"
      },
      "source": [
        "fit = True \n",
        "if fit == True:     \n",
        "  model.fit_generator(train_generator, steps_per_epoch=batch_size, epochs=epochs) \n",
        "  #train for randomly selected one \n",
        "else:     \n",
        "  model.load_weights('/content/facial_expression_model_weights.h5') #load weights "
      ],
      "execution_count": null,
      "outputs": [
        {
          "output_type": "stream",
          "text": [
            "/usr/local/lib/python3.6/dist-packages/tensorflow/python/keras/engine/training.py:1844: UserWarning: `Model.fit_generator` is deprecated and will be removed in a future version. Please use `Model.fit`, which supports generators.\n",
            "  warnings.warn('`Model.fit_generator` is deprecated and '\n"
          ],
          "name": "stderr"
        },
        {
          "output_type": "stream",
          "text": [
            "Epoch 1/5\n",
            "  9/256 [>.............................] - ETA: 13s - loss: 1.8718 - accuracy: 0.2243WARNING:tensorflow:Your input ran out of data; interrupting training. Make sure that your dataset or generator can generate at least `steps_per_epoch * epochs` batches (in this case, 1280 batches). You may need to use the repeat() function when building your dataset.\n",
            "256/256 [==============================] - 7s 2ms/step - loss: 1.8476 - accuracy: 0.2419\n"
          ],
          "name": "stdout"
        }
      ]
    },
    {
      "cell_type": "code",
      "metadata": {
        "id": "Z2LXaKUBs0tT",
        "colab": {
          "base_uri": "https://localhost:8080/"
        },
        "outputId": "4dda60fa-1602-4023-8096-54726184ed3a"
      },
      "source": [
        "score = model.evaluate(x_test, y_test) \n",
        "print('Test loss:', score[0]) \n",
        "print('Test accuracy:', 100*score[1]) "
      ],
      "execution_count": null,
      "outputs": [
        {
          "output_type": "stream",
          "text": [
            "1/1 [==============================] - 0s 198ms/step - loss: 1.8581 - accuracy: 0.3571\n",
            "Test loss: 1.8580673933029175\n",
            "Test accuracy: 35.71428656578064\n"
          ],
          "name": "stdout"
        }
      ]
    },
    {
      "cell_type": "code",
      "metadata": {
        "id": "pZcuxxh4tScR"
      },
      "source": [
        "# function for drawing bar chart for emotion preditions  \n",
        "def emotion_analysis(emotions):     \n",
        "  objects = ('angry', 'disgust', 'fear', 'happy', 'sad', 'surprise', 'neutral')     \n",
        "  y_pos = np.arange(len(objects))          \n",
        "  plt.bar(y_pos, emotions, align='center', alpha=0.5)     \n",
        "  \n",
        "  plt.xticks(y_pos, objects)     \n",
        "  plt.ylabel('percentage')     \n",
        "  plt.title('emotion')       \n",
        "  plt.show() "
      ],
      "execution_count": null,
      "outputs": []
    },
    {
      "cell_type": "code",
      "metadata": {
        "id": "hNTAc8mYt_n5"
      },
      "source": [
        "monitor_testset_results = False \n",
        "if monitor_testset_results == True: \n",
        "  predictions = model.predict(x_test) \n",
        "  index = 0 \n",
        "  for i in predictions: \n",
        "    if index < 5 and index >= 1: \n",
        "      testing_img = np.array(x_test[index], 'float32') \n",
        "      testing_img = testing_img.reshape([48, 48]);         \n",
        "      plt.gray() \n",
        "      plt.imshow(testing_img) \n",
        "      plt.show()             \n",
        "      print(i) \n",
        "      emotion_analysis(i) \n",
        "      print(\"----------------------------------------------\") \n",
        "    index = index + 1 "
      ],
      "execution_count": null,
      "outputs": []
    },
    {
      "cell_type": "code",
      "metadata": {
        "id": "iQSnUL9NvAk3",
        "colab": {
          "base_uri": "https://localhost:8080/",
          "height": 585
        },
        "outputId": "ea0ec425-6dff-42cb-ee18-0434060662d6"
      },
      "source": [
        "img = image.load_img(\"happy_baby.jfif\", grayscale=True, target_size=(48, 48))\n",
        "x = image.img_to_array(img)  \n",
        "x = np.expand_dims(x, axis = 0)  \n",
        "x /= 255  \n",
        "custom = model.predict(x)  \n",
        "emotion_analysis(custom[0])  \n",
        "x = np.array(x, 'float32')  \n",
        "x = x.reshape([48, 48]);  \n",
        "plt.gray()  \n",
        "plt.imshow(x)  \n",
        "plt.show() "
      ],
      "execution_count": null,
      "outputs": [
        {
          "output_type": "stream",
          "text": [
            "/usr/local/lib/python3.6/dist-packages/keras_preprocessing/image/utils.py:107: UserWarning: grayscale is deprecated. Please use color_mode = \"grayscale\"\n",
            "  warnings.warn('grayscale is deprecated. Please use '\n"
          ],
          "name": "stderr"
        },
        {
          "output_type": "display_data",
          "data": {
            "image/png": "[encoded data removed]",
            "text/plain": [
              "<Figure size 432x288 with 1 Axes>"
            ]
          },
          "metadata": {
            "tags": [],
            "needs_background": "light"
          }
        },
        {
          "output_type": "display_data",
          "data": {
            "image/png": "[encoded data removed]",
            "text/plain": [
              "<Figure size 432x288 with 1 Axes>"
            ]
          },
          "metadata": {
            "tags": [],
            "needs_background": "light"
          }
        }
      ]
    },
    {
      "cell_type": "code",
      "metadata": {
        "id": "ItkXnMawv2Ai",
        "colab": {
          "base_uri": "https://localhost:8080/",
          "height": 585
        },
        "outputId": "5b983cbe-12bc-4368-bb61-71ec261c95c5"
      },
      "source": [
        "img = image.load_img(\"sad_baby.jfif\", grayscale=True, target_size=(48, 48))\n",
        "x = image.img_to_array(img)  \n",
        "x = np.expand_dims(x, axis = 0)  \n",
        "x /= 255  \n",
        "custom = model.predict(x)  \n",
        "emotion_analysis(custom[0])  \n",
        "x = np.array(x, 'float32')  \n",
        "x = x.reshape([48, 48]);  \n",
        "plt.gray()  \n",
        "plt.imshow(x)  \n",
        "plt.show() "
      ],
      "execution_count": null,
      "outputs": [
        {
          "output_type": "stream",
          "text": [
            "/usr/local/lib/python3.6/dist-packages/keras_preprocessing/image/utils.py:107: UserWarning: grayscale is deprecated. Please use color_mode = \"grayscale\"\n",
            "  warnings.warn('grayscale is deprecated. Please use '\n"
          ],
          "name": "stderr"
        },
        {
          "output_type": "display_data",
          "data": {
            "image/png": "[encoded data removed]",
            "text/plain": [
              "<Figure size 432x288 with 1 Axes>"
            ]
          },
          "metadata": {
            "tags": [],
            "needs_background": "light"
          }
        },
        {
          "output_type": "display_data",
          "data": {
            "image/png": "[encoded data removed]",
            "text/plain": [
              "<Figure size 432x288 with 1 Axes>"
            ]
          },
          "metadata": {
            "tags": [],
            "needs_background": "light"
          }
        }
      ]
    },
    {
      "cell_type": "code",
      "metadata": {
        "id": "2EA5os9ewFO1",
        "colab": {
          "base_uri": "https://localhost:8080/",
          "height": 585
        },
        "outputId": "1c0cba19-53c0-49f4-b919-97125713ecb5"
      },
      "source": [
        "img = image.load_img(\"angry_baby.jfif\", grayscale=True, target_size=(48, 48))\n",
        "x = image.img_to_array(img)  \n",
        "x = np.expand_dims(x, axis = 0)  \n",
        "x /= 255  \n",
        "custom = model.predict(x)  \n",
        "emotion_analysis(custom[0])  \n",
        "x = np.array(x, 'float32')  \n",
        "x = x.reshape([48, 48]);  \n",
        "plt.gray()  \n",
        "plt.imshow(x)  \n",
        "plt.show() "
      ],
      "execution_count": null,
      "outputs": [
        {
          "output_type": "stream",
          "text": [
            "/usr/local/lib/python3.6/dist-packages/keras_preprocessing/image/utils.py:107: UserWarning: grayscale is deprecated. Please use color_mode = \"grayscale\"\n",
            "  warnings.warn('grayscale is deprecated. Please use '\n"
          ],
          "name": "stderr"
        },
        {
          "output_type": "display_data",
          "data": {
            "image/png": "[encoded data removed]",
            "text/plain": [
              "<Figure size 432x288 with 1 Axes>"
            ]
          },
          "metadata": {
            "tags": [],
            "needs_background": "light"
          }
        },
        {
          "output_type": "display_data",
          "data": {
            "image/png": "[encoded data removed]",
            "text/plain": [
              "<Figure size 432x288 with 1 Axes>"
            ]
          },
          "metadata": {
            "tags": [],
            "needs_background": "light"
          }
        }
      ]
    },
    {
      "cell_type": "code",
      "metadata": {
        "id": "eGHgPeIhwdUo",
        "colab": {
          "base_uri": "https://localhost:8080/",
          "height": 585
        },
        "outputId": "7c08f674-6ed8-4576-ee01-f455267de7ae"
      },
      "source": [
        "img = image.load_img(\"angry_man.jfif\", grayscale=True, target_size=(48, 48))\n",
        "x = image.img_to_array(img)  \n",
        "x = np.expand_dims(x, axis = 0)  \n",
        "x /= 255  \n",
        "custom = model.predict(x)  \n",
        "emotion_analysis(custom[0])  \n",
        "x = np.array(x, 'float32')  \n",
        "x = x.reshape([48, 48]);  \n",
        "plt.gray()  \n",
        "plt.imshow(x)  \n",
        "plt.show() "
      ],
      "execution_count": null,
      "outputs": [
        {
          "output_type": "stream",
          "text": [
            "/usr/local/lib/python3.6/dist-packages/keras_preprocessing/image/utils.py:107: UserWarning: grayscale is deprecated. Please use color_mode = \"grayscale\"\n",
            "  warnings.warn('grayscale is deprecated. Please use '\n"
          ],
          "name": "stderr"
        },
        {
          "output_type": "display_data",
          "data": {
            "image/png": "[encoded data removed]",
            "text/plain": [
              "<Figure size 432x288 with 1 Axes>"
            ]
          },
          "metadata": {
            "tags": [],
            "needs_background": "light"
          }
        },
        {
          "output_type": "display_data",
          "data": {
            "image/png": "[encoded data removed]",
            "text/plain": [
              "<Figure size 432x288 with 1 Axes>"
            ]
          },
          "metadata": {
            "tags": [],
            "needs_background": "light"
          }
        }
      ]
    },
    {
      "cell_type": "code",
      "metadata": {
        "id": "bZgeGrwywhXn"
      },
      "source": [
        ""
      ],
      "execution_count": null,
      "outputs": []
    }
  ]
}